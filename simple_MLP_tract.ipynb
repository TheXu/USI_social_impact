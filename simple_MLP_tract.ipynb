{
 "cells": [
  {
   "cell_type": "code",
   "execution_count": 1,
   "metadata": {
    "collapsed": false
   },
   "outputs": [
    {
     "name": "stdout",
     "output_type": "stream",
     "text": [
      "Populating the interactive namespace from numpy and matplotlib\n"
     ]
    }
   ],
   "source": [
    "import pandas as pd\n",
    "from sklearn.preprocessing import MinMaxScaler # Look at RF for package\n",
    "import numpy as np\n",
    "import tensorflow as tf\n",
    "import pylab as pl\n",
    "% pylab inline\n",
    "RANDOM_SEED = np.random.seed(20170301)"
   ]
  },
  {
   "cell_type": "markdown",
   "metadata": {},
   "source": [
    "# Simple MLP using tensor flow\n",
    "Adapted from a basic feedforward MLP developed by Vinh Khuc https://gist.github.com/vinhkhuc/e53a70f9e5c3f55852b0\n",
    "\n",
    "1 hidden layer"
   ]
  },
  {
   "cell_type": "code",
   "execution_count": 2,
   "metadata": {
    "collapsed": false
   },
   "outputs": [],
   "source": [
    "data_directory = #enter filepath for your data folder on local machine\n",
    "\n",
    "# get 2013, 2014, and 2015 data for zipcode\n",
    "init_tract_2013 = pd.read_csv(data_directory+'/pluto_fdny_dob_census_to_tract_2013.csv')\n",
    "init_tract_2014 = pd.read_csv(data_directory+'/pluto_fdny_dob_census_to_tract_2014.csv')\n",
    "init_tract_2015 = pd.read_csv(data_directory+'/pluto_fdny_dob_census_to_tract_2015.csv')"
   ]
  },
  {
   "cell_type": "markdown",
   "metadata": {},
   "source": [
    "Bonus: A look at the top tracts"
   ]
  },
  {
   "cell_type": "code",
   "execution_count": 3,
   "metadata": {
    "collapsed": false
   },
   "outputs": [],
   "source": [
    "def top_cut(data,target_col,thresh='mean',qt=None):\n",
    "    temp = data.copy()\n",
    "    temp.fillna(0, inplace=True)\n",
    "    temp = temp.replace(np.inf, 0)\n",
    "    mn = temp[target_col].mean()\n",
    "    if thresh=='mean':\n",
    "        return temp[temp[target_col]>mn]\n",
    "    elif thresh=='quant':\n",
    "        qt_val = temp[target_col].quantile(qt)\n",
    "        return temp[temp[target_col]>qt_val]\n",
    "    else:\n",
    "        return temp[temp[target_col]>thresh]"
   ]
  },
  {
   "cell_type": "code",
   "execution_count": 4,
   "metadata": {
    "collapsed": false
   },
   "outputs": [],
   "source": [
    "# cut - 25th quantile (i.e. top 75%)\n",
    "cut_tract_2013 = top_cut(init_tract_2013,'total_gas_incidents',thresh='quant',qt=.25)\n",
    "cut_tract_2014 = top_cut(init_tract_2014,'total_gas_incidents',thresh='quant',qt=.25)\n",
    "cut_tract_2015 = top_cut(init_tract_2015,'total_gas_incidents',thresh='quant',qt=.25)"
   ]
  },
  {
   "cell_type": "code",
   "execution_count": 5,
   "metadata": {
    "collapsed": true
   },
   "outputs": [],
   "source": [
    "def preprocess_and_split(train_data,test_data,units=True):\n",
    "    \"\"\"Takes initial dataframes for train and test/validate, processes, \n",
    "    and returns x_train, y_train,x_test,y_test.\"\"\"\n",
    "    \n",
    "    if units:\n",
    "        drop_col = 'total_gas_incidents'\n",
    "    else:\n",
    "        drop_col = 'gas_incidents_per_bldg_unit'\n",
    "        \n",
    "    # replace 0 and inf and error zipcode\n",
    "    # train\n",
    "    train_data.fillna(0, inplace=True)\n",
    "    train_data = train_data.replace(np.inf, 0)\n",
    " \n",
    "    train_data = train_data.drop(['NTACode', 'NTAName', 'geometry', \n",
    "                                  'ZipCode', drop_col, 'GEOID'],axis=1).copy()\n",
    "    \n",
    "    # test/validate\n",
    "    test_data.fillna(0, inplace=True)\n",
    "    test_data = test_data.replace(np.inf, 0)\n",
    "    test_data = test_data.drop(['NTACode', 'NTAName', 'geometry', \n",
    "                                  'ZipCode', drop_col, 'GEOID'],axis=1).copy()\n",
    "\n",
    "    # add variables to training data for columns in test/validate data and set value to 0.0\n",
    "    for i in train_data.columns:\n",
    "        if i not in test_data.columns:\n",
    "            test_data[i] = 0.0\n",
    "            \n",
    "    # drop excess features from test/validate data not found in train data and re-order\n",
    "    test_data = test_data[train_data.columns]\n",
    "    \n",
    "    # set out features and target (target: gas leaks per unit per tract)\n",
    "    x_train = train_data.iloc[:,1:-1].values # not include TRACT column\n",
    "    y_train = train_data.iloc[:,-1].values\n",
    "    \n",
    "    # scale the data with minmax\n",
    "    scaler = MinMaxScaler()\n",
    "    x_train = scaler.fit_transform(x_train)\n",
    "    \n",
    "    # add bias vector as column to features\n",
    "    b = np.ones((x_train.shape[0],x_train.shape[1]+1))\n",
    "    b[:,:-1] = x_train\n",
    "    x_train = b.copy()\n",
    "    \n",
    "    # test data (using train data features as test features)\n",
    "    x_test = x_train.copy()\n",
    "    y_test = test_data.iloc[:,-1].values\n",
    "       \n",
    "    return x_train,x_test,y_train,y_test"
   ]
  },
  {
   "cell_type": "code",
   "execution_count": 6,
   "metadata": {
    "collapsed": true
   },
   "outputs": [],
   "source": [
    "def init_weights(shape):\n",
    "    \"\"\" Weight initialization \"\"\"\n",
    "    weights = tf.random_normal(shape, stddev=0.1)\n",
    "    return tf.Variable(weights)"
   ]
  },
  {
   "cell_type": "code",
   "execution_count": 7,
   "metadata": {
    "collapsed": true
   },
   "outputs": [],
   "source": [
    "def forwardprop(X, w_1, w_2,sig_fn):\n",
    "    \"\"\"\n",
    "    Forward-propagation.\n",
    "    \"\"\"\n",
    "    if sig_fn: \n",
    "        h= tf.nn.sigmoid(tf.matmul(X, w_1))  # activation is sigmoid\n",
    "    else:\n",
    "        h= tf.nn.tanh(tf.matmul(X, w_1)) # activation is hyper-tangent\n",
    "    yhat = tf.matmul(h, w_2)  # The \\varphi function\n",
    "    return yhat"
   ]
  },
  {
   "cell_type": "code",
   "execution_count": 8,
   "metadata": {
    "collapsed": false
   },
   "outputs": [],
   "source": [
    "def mlp(train_data,test_data,num_epochs,lr,gamma,hidden_nodes,print_freq,sig_fn,units):\n",
    "    train_X, test_X, train_y, test_y = preprocess_and_split(train_data,test_data,units)\n",
    "\n",
    "    # Layer's sizes\n",
    "    x_size = train_X.shape[1]   # Number of input nodes: x features and 1 bias\n",
    "    h_size = hidden_nodes       # Number of hidden nodes, \n",
    "                                # this is arbitrary, lower numbers can simulate PCA\n",
    "    y_size = 1                  # Just 1 target variable\n",
    "\n",
    "    # Symbols\n",
    "    X = tf.placeholder(\"float\", shape=[None, x_size])\n",
    "    y = tf.placeholder(\"float\", shape=[None, y_size])\n",
    "\n",
    "    # Weight initializations\n",
    "    w_1 = init_weights((x_size, h_size))\n",
    "    w_2 = init_weights((h_size, y_size))\n",
    "\n",
    "    # Forward propagation\n",
    "    yhat = forwardprop(X, w_1, w_2,sig_fn)\n",
    "\n",
    "    # Backward propagation\n",
    "    cost = tf.sqrt(tf.reduce_mean(tf.square(tf.subtract(y, yhat)))) # root mean sq error\n",
    "    \n",
    "    # L2 regularization\n",
    "    if gamma>0.000000:\n",
    "        regularizers = tf.nn.l2_loss(w_1) + tf.nn.l2_loss(w_2)\n",
    "        cost = tf.reduce_mean(cost + gamma * regularizers)\n",
    "    \n",
    "    \n",
    "    updates = tf.train.GradientDescentOptimizer(lr).minimize(cost)\n",
    "\n",
    "    # Run SGD\n",
    "    sess = tf.Session()\n",
    "    init = tf.global_variables_initializer()\n",
    "    sess.run(init)\n",
    "\n",
    "    print_count = 0\n",
    "    for epoch in range(num_epochs):\n",
    "\n",
    "        # Train with each example\n",
    "        for i in range(len(train_X)):\n",
    "            sess.run(updates, feed_dict={X: train_X[i: i + 1],\n",
    "                                         y: train_y[i: i + 1].reshape(1,1)})\n",
    "\n",
    "        # test and validate the trained model\n",
    "        train_run = sess.run(yhat, feed_dict={X: train_X, y: train_y.reshape(len(train_y),1)})\n",
    "        test_run = sess.run(yhat, feed_dict={X: test_X, y: test_y.reshape(len(test_y),1)})\n",
    "        \n",
    "        train_accuracy = np.sqrt(np.mean((train_y - train_run)**2))\n",
    "        test_accuracy = np.sqrt(np.mean((test_y - test_run)**2))\n",
    "\n",
    "        if print_count>print_freq:\n",
    "            print(\"Epoch = {}, train rmse = {:.4f},test rmse = {:.4f}, IS/OS ratio = {:.4f}\".format(\n",
    "                    epoch+1,train_accuracy, test_accuracy,train_accuracy/test_accuracy))\n",
    "            print_count=0\n",
    "        else:\n",
    "            print_count+=1\n",
    "    \n",
    "    params_ = sess.run(w_1),sess.run(w_2)\n",
    "    results_ = train_accuracy,test_accuracy\n",
    "    return test_run, params_, results_\n",
    "    sess.close()"
   ]
  },
  {
   "cell_type": "code",
   "execution_count": 9,
   "metadata": {
    "collapsed": false
   },
   "outputs": [
    {
     "name": "stdout",
     "output_type": "stream",
     "text": [
      "Epoch = 52, train rmse = 0.7356,test rmse = 0.8986, IS/OS ratio = 0.8186\n",
      "Epoch = 104, train rmse = 0.7338,test rmse = 0.8962, IS/OS ratio = 0.8189\n",
      "Epoch = 156, train rmse = 0.7338,test rmse = 0.8962, IS/OS ratio = 0.8189\n",
      "Epoch = 208, train rmse = 0.7400,test rmse = 0.9030, IS/OS ratio = 0.8195\n",
      "Epoch = 260, train rmse = 0.7367,test rmse = 0.8998, IS/OS ratio = 0.8188\n",
      "Epoch = 312, train rmse = 0.7399,test rmse = 0.9028, IS/OS ratio = 0.8195\n",
      "Epoch = 364, train rmse = 0.7399,test rmse = 0.9028, IS/OS ratio = 0.8195\n",
      "Epoch = 416, train rmse = 0.7398,test rmse = 0.9028, IS/OS ratio = 0.8195\n",
      "Epoch = 468, train rmse = 0.7398,test rmse = 0.9028, IS/OS ratio = 0.8195\n"
     ]
    }
   ],
   "source": [
    "# run mlp\n",
    "epochs = 500\n",
    "learning = 0.01\n",
    "regular = 0.01\n",
    "model_1 = mlp(init_tract_2014,init_tract_2015,\n",
    "                              num_epochs=epochs,lr=learning,gamma=regular,\n",
    "                              hidden_nodes=50,print_freq=50,sig_fn=True,units=True)"
   ]
  },
  {
   "cell_type": "code",
   "execution_count": 10,
   "metadata": {
    "collapsed": false
   },
   "outputs": [],
   "source": [
    "def plot_mlp(model_object,epochs,learning,gamma,final,cut,units):\n",
    "    pred_y = model_object[0]\n",
    "    \n",
    "    if units:\n",
    "        target_col = 'gas_incidents_per_bldg_unit'\n",
    "    else:\n",
    "        target_col = 'total_gas_incidents'\n",
    "    \n",
    "    if cut:\n",
    "        temp_13 = cut_tract_2013.copy()\n",
    "        temp_14 = cut_tract_2014.copy()\n",
    "        temp_15 = cut_tract_2015.copy()\n",
    "    else:\n",
    "        temp_13 = init_tract_2013.copy()\n",
    "        temp_14 = init_tract_2014.copy()\n",
    "        temp_15 = init_tract_2015.copy()\n",
    "    \n",
    "    if final:\n",
    "        results_df = temp_15[['TRACT','ZipCode',target_col]].copy()\n",
    "        results_df['2013'] = temp_13[target_col]\n",
    "        results_df['2014'] = temp_14[target_col]\n",
    "        results_df['naive'] = (results_df['2013']+results_df['2014'])/2\n",
    "        results_df['yhat'] = pred_y\n",
    "        results_df = results_df.sort_values(\n",
    "            target_col,ascending=False).reset_index()\n",
    "        test_year = \"2015\"\n",
    "        train_year = '2014'\n",
    "    else:\n",
    "        results_df = temp_14[['TRACT','ZipCode',target_col]].copy()\n",
    "        results_df['naive'] = temp_13[target_col]\n",
    "        results_df['yhat'] = pred_y\n",
    "        results_df = results_df.sort_values(\n",
    "            target_col,ascending=False).reset_index()\n",
    "        test_year = \"2014\"\n",
    "        train_year = '2013'\n",
    "    \n",
    "    results_df = results_df*1000\n",
    "    # plot\n",
    "    fig = pl.figure(figsize=(15,5))\n",
    "    x = results_df.index\n",
    "    pl.plot(x,results_df[target_col],\n",
    "            label='actual {} {}'.format(test_year,target_col));\n",
    "    pl.plot(x,results_df['yhat'],label='predicted {}'.format(target_col))\n",
    "    pl.plot(x,results_df['naive'],label='naive guess')\n",
    "    pl.xlabel('tracts ranked in descending order of actual {} gas leaks'.format(test_year))\n",
    "    pl.ylabel('{}'.format(target_col))\n",
    "    pl.legend(loc='best')\n",
    "#     pl.xlim(25,30)\n",
    "    pl.title(\"Actual {} vs MLP predicted {} {}; {} epochs, lr={},gamma={}\".format(test_year,\n",
    "                                                                         test_year,\n",
    "                                                                         target_col,\n",
    "                                                                         epochs,learning,\n",
    "                                                                                 gamma));\n",
    "    \n",
    "    fig1 = pl.figure(figsize=(15,5))\n",
    "    pl.plot(results_df[target_col]-results_df['yhat'],'g')\n",
    "    pl.title('difference b/t {} actual {} and NN model output'.format(test_year,target_col))\n",
    "    pl.xlabel('tracts ranked in descending order of actual {} leaks'.format(test_year))\n",
    "    pl.ylabel('diff in actual from predicted')"
   ]
  },
  {
   "cell_type": "code",
   "execution_count": 11,
   "metadata": {
    "collapsed": false
   },
   "outputs": [
    {
     "data": {
      "image/png": "[encoded data removed]",
      "text/plain": [
       "<matplotlib.figure.Figure at 0x109cdf150>"
      ]
     },
     "metadata": {},
     "output_type": "display_data"
    },
    {
     "data": {
      "image/png": "[encoded data removed]",
      "text/plain": [
       "<matplotlib.figure.Figure at 0x11da193d0>"
      ]
     },
     "metadata": {},
     "output_type": "display_data"
    }
   ],
   "source": [
    "plot_mlp(model_1,epochs,learning,gamma=regular,final=False,cut=False,units=True)"
   ]
  },
  {
   "cell_type": "code",
   "execution_count": 12,
   "metadata": {
    "collapsed": false
   },
   "outputs": [
    {
     "data": {
      "text/plain": [
       "(0.73676129451172667, 0.89980579387090653)"
      ]
     },
     "execution_count": 12,
     "metadata": {},
     "output_type": "execute_result"
    }
   ],
   "source": [
    "model_1[2]"
   ]
  },
  {
   "cell_type": "markdown",
   "metadata": {},
   "source": [
    "2015 test with\n",
    "- gamma: 0.01\n",
    "- activation function: sigmoid (rmse 0.7367 vs tanh at 0.7369\n",
    "- lr: 0.01 (rmse 0.7338 vs lr=0.001 at 0.7370 or lr=0.7367)\n",
    "- hidden: 50 (rather than 100 or higher)\n",
    "- seemed to find a consistent minimum around rmse 0.0073-0.0077\n",
    "\n",
    "NOTES:\n",
    "- found coarse-grained stability wrt lr, but hard to set lr too small at first...decay rate? (hessian matrix) http://stackoverflow.com/questions/35266370/tensorflow-compute-hessian-matrix-and-higher-order-derivatives\n",
    "- top (>25% percentile)\n",
    "- initial train 2013, train/test on 2014/2015 (i.e. 2nd train y should be 2014 data)\n",
    "\n",
    "2015 RMSE: 0.89980579387090653"
   ]
  },
  {
   "cell_type": "code",
   "execution_count": 16,
   "metadata": {
    "collapsed": false
   },
   "outputs": [],
   "source": [
    "final_output = init_tract_2015.copy()\n",
    "# final_output = final_output[final_output.ZipCode!=0]\n",
    "final_output['naive'] = (init_tract_2013[\n",
    "    'gas_incidents_per_bldg_unit']+init_tract_2014[\n",
    "    'gas_incidents_per_bldg_unit'])/2\n",
    "final_output['yhat'] = model_1[0]"
   ]
  },
  {
   "cell_type": "code",
   "execution_count": 52,
   "metadata": {
    "collapsed": false
   },
   "outputs": [],
   "source": [
    "final_output = final_output[['TRACT','geometry','ZipCode',\n",
    "                 'total_gas_incidents','gas_incidents_per_bldg_unit',\n",
    "                'naive','yhat']]"
   ]
  },
  {
   "cell_type": "code",
   "execution_count": 53,
   "metadata": {
    "collapsed": false
   },
   "outputs": [],
   "source": [
    "final_output.to_csv('djc_tract_baseline.csv',index=False)"
   ]
  },
  {
   "cell_type": "markdown",
   "metadata": {},
   "source": [
    "### Aggregate to zipcode and calculate rmse"
   ]
  },
  {
   "cell_type": "code",
   "execution_count": 6,
   "metadata": {
    "collapsed": false
   },
   "outputs": [],
   "source": [
    "final_output = pd.read_csv(data_directory+'/djc_tract_baseline.csv')"
   ]
  },
  {
   "cell_type": "code",
   "execution_count": 7,
   "metadata": {
    "collapsed": false
   },
   "outputs": [],
   "source": [
    "zip_agg = final_output.groupby('ZipCode').sum().reset_index()\n",
    "zip_agg['ZipCode'] = zip_agg['ZipCode'].astype(int).astype(str)"
   ]
  },
  {
   "cell_type": "code",
   "execution_count": 8,
   "metadata": {
    "collapsed": false
   },
   "outputs": [],
   "source": [
    "zip_15 = pd.read_csv(data_directory+'/pluto_fdny_dob_census_to_zipcode_2015.csv',\n",
    "                     usecols=['geometry','ZipCode',\n",
    "                 'total_gas_incidents','gas_incidents_per_bldg_unit'])\n",
    "zip_15['ZipCode'] = zip_15['ZipCode'].astype(str)\n",
    "zip_15 = zip_15.rename(columns={'total_gas_incidents':'total_actual_15',\n",
    "                       'gas_incidents_per_bldg_unit':'per_unit_actual_15'})\n",
    "\n",
    "zip_15.fillna(0, inplace=True)\n",
    "zip_15 = zip_15.replace(np.inf, 0)"
   ]
  },
  {
   "cell_type": "code",
   "execution_count": 17,
   "metadata": {
    "collapsed": false
   },
   "outputs": [],
   "source": [
    "zip_merged = zip_agg.merge(zip_15,how='left',on='ZipCode')\n",
    "zip_merged.fillna(0, inplace=True)\n",
    "zip_merged = zip_merged.replace(np.inf, 0)\n",
    "zip_merged = zip_merged[~zip_merged['ZipCode'].isin(['0',0])]\n",
    "zip_merged = zip_merged[['ZipCode','TRACT','total_actual_15','per_unit_actual_15','naive','yhat']]"
   ]
  },
  {
   "cell_type": "code",
   "execution_count": 18,
   "metadata": {
    "collapsed": false
   },
   "outputs": [],
   "source": [
    "zip_rmse = np.sqrt(np.mean((zip_merged['yhat'] - zip_merged['per_unit_actual_15'])**2))"
   ]
  },
  {
   "cell_type": "code",
   "execution_count": 20,
   "metadata": {
    "collapsed": false
   },
   "outputs": [],
   "source": [
    "zip_merged.to_csv('djc_tract_agg_to_zip.csv',index=False)"
   ]
  },
  {
   "cell_type": "code",
   "execution_count": 21,
   "metadata": {
    "collapsed": false
   },
   "outputs": [
    {
     "data": {
      "text/plain": [
       "0.052942399313643453"
      ]
     },
     "execution_count": 21,
     "metadata": {},
     "output_type": "execute_result"
    }
   ],
   "source": [
    "zip_rmse"
   ]
  },
  {
   "cell_type": "code",
   "execution_count": null,
   "metadata": {
    "collapsed": true
   },
   "outputs": [],
   "source": []
  }
 ],
 "metadata": {
  "kernelspec": {
   "display_name": "Python 2",
   "language": "python",
   "name": "python2"
  },
  "language_info": {
   "codemirror_mode": {
    "name": "ipython",
    "version": 2
   },
   "file_extension": ".py",
   "mimetype": "text/x-python",
   "name": "python",
   "nbconvert_exporter": "python",
   "pygments_lexer": "ipython2",
   "version": "2.7.13"
  }
 },
 "nbformat": 4,
 "nbformat_minor": 2
}
